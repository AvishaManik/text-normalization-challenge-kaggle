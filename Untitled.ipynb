{
 "cells": [
  {
   "cell_type": "code",
   "execution_count": 1,
   "metadata": {
    "collapsed": true
   },
   "outputs": [],
   "source": [
    "import pandas as pd\n",
    "import numpy\n",
    "import matplotlib\n",
    "import matplotlib.pyplot as plt"
   ]
  },
  {
   "cell_type": "code",
   "execution_count": 2,
   "metadata": {
    "collapsed": true
   },
   "outputs": [],
   "source": [
    "# df = pd.read_csv(\"en_train.csv\", nrows = 10000)\n",
    "df = pd.read_csv(\"en_train.csv\")"
   ]
  },
  {
   "cell_type": "code",
   "execution_count": 3,
   "metadata": {},
   "outputs": [
    {
     "name": "stdout",
     "output_type": "stream",
     "text": [
      "['ELECTRONIC', 'DECIMAL', 'LETTERS', 'CARDINAL', 'MEASURE', 'ORDINAL', 'TELEPHONE', 'FRACTION', 'ADDRESS', 'PUNCT', 'TIME', 'DATE', 'PLAIN', 'DIGIT', 'VERBATIM', 'MONEY']\n",
      "[522, 133744, 258348, 9821, 5442, 5162, 1196, 152790, 14783, 6128, 12703, 7353647, 1880507, 4024, 1465, 78108]\n"
     ]
    }
   ],
   "source": [
    "#print(df)\n",
    "df_classes = df.groupby('class').count()\n",
    "df_class_list = list(set(c for c in df['class']))\n",
    "print(df_class_list)\n",
    "x =[val for val in  df_classes['before']]\n",
    "print (x)"
   ]
  },
  {
   "cell_type": "code",
   "execution_count": 51,
   "metadata": {},
   "outputs": [
    {
     "name": "stdout",
     "output_type": "stream",
     "text": [
      "659839\n"
     ]
    }
   ],
   "source": [
    "# count = 0\n",
    "# df['before'][10]\n",
    "# for x in range(len(df['before'])):\n",
    "#     if df['before'][x]!=df['after'][x]:\n",
    "#         count +=1\n",
    "# print(count)"
   ]
  },
  {
   "cell_type": "code",
   "execution_count": 14,
   "metadata": {},
   "outputs": [
    {
     "data": {
      "image/png": "[encoded data removed]",
      "text/plain": [
       "<matplotlib.figure.Figure at 0x1138c6b38>"
      ]
     },
     "metadata": {},
     "output_type": "display_data"
    }
   ],
   "source": [
    "df_classes_counts = df['class'].value_counts()\n",
    "df_classes_counts.plot(kind='bar', rot=75)\n",
    "plt.show()"
   ]
  },
  {
   "cell_type": "code",
   "execution_count": 6,
   "metadata": {},
   "outputs": [
    {
     "data": {
      "text/plain": [
       "PLAIN         7353693\n",
       "PUNCT         1880507\n",
       "DATE           258348\n",
       "LETTERS        152795\n",
       "CARDINAL       133744\n",
       "VERBATIM        78108\n",
       "MEASURE         14783\n",
       "ORDINAL         12703\n",
       "DECIMAL          9821\n",
       "MONEY            6128\n",
       "DIGIT            5442\n",
       "ELECTRONIC       5162\n",
       "TELEPHONE        4024\n",
       "TIME             1465\n",
       "FRACTION         1196\n",
       "ADDRESS           522\n",
       "Name: class, dtype: int64"
      ]
     },
     "execution_count": 6,
     "metadata": {},
     "output_type": "execute_result"
    }
   ],
   "source": []
  },
  {
   "cell_type": "code",
   "execution_count": null,
   "metadata": {
    "collapsed": true
   },
   "outputs": [],
   "source": []
  }
 ],
 "metadata": {
  "kernelspec": {
   "display_name": "Python 3",
   "language": "python",
   "name": "python3"
  },
  "language_info": {
   "codemirror_mode": {
    "name": "ipython",
    "version": 3
   },
   "file_extension": ".py",
   "mimetype": "text/x-python",
   "name": "python",
   "nbconvert_exporter": "python",
   "pygments_lexer": "ipython3",
   "version": "3.6.3"
  }
 },
 "nbformat": 4,
 "nbformat_minor": 2
}
