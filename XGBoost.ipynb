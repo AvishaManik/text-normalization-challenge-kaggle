{
 "cells": [
  {
   "cell_type": "code",
   "execution_count": 34,
   "metadata": {},
   "outputs": [],
   "source": [
    "import pandas as pd\n",
    "import numpy as np\n",
    "import random\n",
    "from matplotlib import pyplot as plt\n",
    "import plotly.plotly as py\n",
    "%matplotlib inline\n",
    "\n",
    "train_data = pd.read_csv('en_train.csv')"
   ]
  },
  {
   "cell_type": "code",
   "execution_count": 35,
   "metadata": {
    "scrolled": true
   },
   "outputs": [
    {
     "name": "stdout",
     "output_type": "stream",
     "text": [
      "Null values per column\n",
      "sentence_id     0\n",
      "token_id        0\n",
      "class           0\n",
      "before         51\n",
      "after          46\n",
      "dtype: int64\n",
      "\n",
      "Non-null values per column\n",
      "sentence_id    9918441\n",
      "token_id       9918441\n",
      "class          9918441\n",
      "before         9918390\n",
      "after          9918395\n",
      "dtype: int64\n"
     ]
    }
   ],
   "source": [
    "##Check for Null values\n",
    "print(\"Null values per column\")\n",
    "print(train_data.isnull().sum(axis = 0))\n",
    "print(\"\\nNon-null values per column\")\n",
    "print(train_data.count())"
   ]
  },
  {
   "cell_type": "code",
   "execution_count": 36,
   "metadata": {
    "collapsed": true
   },
   "outputs": [],
   "source": [
    "import gc\n",
    "\n",
    "max_num_features = 10\n",
    "space_letter = 0\n",
    "\n",
    "x_data = []\n",
    "gc.collect()\n",
    "for x in train_data['before'].values:\n",
    "    x_row = np.ones(max_num_features, dtype=int) * space_letter\n",
    "    for xi, i in zip(list(str(x)), np.arange(max_num_features)):\n",
    "        x_row[i] = ord(xi)\n",
    "    x_data.append(x_row)\n"
   ]
  },
  {
   "cell_type": "code",
   "execution_count": 37,
   "metadata": {},
   "outputs": [
    {
     "name": "stdout",
     "output_type": "stream",
     "text": [
      "x_data sample:\n",
      "[105 115   0   0   0   0   0   0   0   0]\n"
     ]
    }
   ],
   "source": [
    "print('x_data sample:')\n",
    "print(x_data[1])"
   ]
  },
  {
   "cell_type": "code",
   "execution_count": 38,
   "metadata": {},
   "outputs": [
    {
     "name": "stdout",
     "output_type": "stream",
     "text": [
      "[array([ 0.,  0.,  0.,  0.,  0.,  0.,  0.,  0.,  0.,  0.])]\n"
     ]
    }
   ],
   "source": [
    "pre = np.zeros(max_num_features)\n",
    "pre = [pre for x in np.arange(1)]\n",
    "print(pre)"
   ]
  },
  {
   "cell_type": "code",
   "execution_count": 39,
   "metadata": {
    "collapsed": true
   },
   "outputs": [],
   "source": [
    "def context_window_transform(data, pad_size):\n",
    "    pre = np.zeros(max_num_features)\n",
    "    pre = [pre for x in np.arange(pad_size)]\n",
    "    data = pre + data + pre\n",
    "    neo_data = []\n",
    "    for i in np.arange(len(data) - pad_size * 2):\n",
    "        row = []\n",
    "        for x in data[i : i + pad_size * 2 + 1]:\n",
    "            row.append([boundary_letter])\n",
    "            row.append(x)\n",
    "        row.append([boundary_letter])\n",
    "        neo_data.append([int(x) for y in row for x in y])\n",
    "    return neo_data"
   ]
  },
  {
   "cell_type": "code",
   "execution_count": 40,
   "metadata": {},
   "outputs": [
    {
     "name": "stdout",
     "output_type": "stream",
     "text": [
      "[[ -1   0   0   0   0   0   0   0   0   0   0  -1  66 114 105 108 108  97\n",
      "  110 116  97 105  -1 105 115   0   0   0   0   0   0   0   0  -1]\n",
      " [ -1  66 114 105 108 108  97 110 116  97 105  -1 105 115   0   0   0   0\n",
      "    0   0   0   0  -1  97   0   0   0   0   0   0   0   0   0  -1]\n",
      " [ -1 105 115   0   0   0   0   0   0   0   0  -1  97   0   0   0   0   0\n",
      "    0   0   0   0  -1 103 101 110 117 115   0   0   0   0   0  -1]\n",
      " [ -1  97   0   0   0   0   0   0   0   0   0  -1 103 101 110 117 115   0\n",
      "    0   0   0   0  -1 111 102   0   0   0   0   0   0   0   0  -1]\n",
      " [ -1 103 101 110 117 115   0   0   0   0   0  -1 111 102   0   0   0   0\n",
      "    0   0   0   0  -1 112 108  97 110 116   0   0   0   0   0  -1]\n",
      " [ -1 111 102   0   0   0   0   0   0   0   0  -1 112 108  97 110 116   0\n",
      "    0   0   0   0  -1 105 110   0   0   0   0   0   0   0   0  -1]\n",
      " [ -1 112 108  97 110 116   0   0   0   0   0  -1 105 110   0   0   0   0\n",
      "    0   0   0   0  -1 102  97 109 105 108 121   0   0   0   0  -1]\n",
      " [ -1 105 110   0   0   0   0   0   0   0   0  -1 102  97 109 105 108 121\n",
      "    0   0   0   0  -1  65  99  97 110 116 104  97  99 101  97  -1]\n",
      " [ -1 102  97 109 105 108 121   0   0   0   0  -1  65  99  97 110 116 104\n",
      "   97  99 101  97  -1  46   0   0   0   0   0   0   0   0   0  -1]\n",
      " [ -1  65  99  97 110 116 104  97  99 101  97  -1  46   0   0   0   0   0\n",
      "    0   0   0   0  -1  50  48  48  54   0   0   0   0   0   0  -1]\n",
      " [ -1  46   0   0   0   0   0   0   0   0   0  -1  50  48  48  54   0   0\n",
      "    0   0   0   0  -1  73  85  67  78   0   0   0   0   0   0  -1]\n",
      " [ -1  50  48  48  54   0   0   0   0   0   0  -1  73  85  67  78   0   0\n",
      "    0   0   0   0  -1  82 101 100   0   0   0   0   0   0   0  -1]\n",
      " [ -1  73  85  67  78   0   0   0   0   0   0  -1  82 101 100   0   0   0\n",
      "    0   0   0   0  -1  76 105 115 116   0   0   0   0   0   0  -1]\n",
      " [ -1  82 101 100   0   0   0   0   0   0   0  -1  76 105 115 116   0   0\n",
      "    0   0   0   0  -1 111 102   0   0   0   0   0   0   0   0  -1]\n",
      " [ -1  76 105 115 116   0   0   0   0   0   0  -1 111 102   0   0   0   0\n",
      "    0   0   0   0  -1  84 104 114 101  97 116 101 110 101 100  -1]\n",
      " [ -1 111 102   0   0   0   0   0   0   0   0  -1  84 104 114 101  97 116\n",
      "  101 110 101 100  -1  83 112 101  99 105 101 115   0   0   0  -1]\n",
      " [ -1  84 104 114 101  97 116 101 110 101 100  -1  83 112 101  99 105 101\n",
      "  115   0   0   0  -1  46   0   0   0   0   0   0   0   0   0  -1]\n",
      " [ -1  83 112 101  99 105 101 115   0   0   0  -1  46   0   0   0   0   0\n",
      "    0   0   0   0  -1  67 105 114  99  97   0   0   0   0   0  -1]\n",
      " [ -1  46   0   0   0   0   0   0   0   0   0  -1  67 105 114  99  97   0\n",
      "    0   0   0   0  -1  83 117 114 118 105 118 101   0   0   0  -1]\n",
      " [ -1  67 105 114  99  97   0   0   0   0   0  -1  83 117 114 118 105 118\n",
      "  101   0   0   0  -1   0   0   0   0   0   0   0   0   0   0  -1]]\n"
     ]
    }
   ],
   "source": [
    "pad_size = 1\n",
    "boundary_letter = -1\n",
    "space_letter = 0\n",
    "\n",
    "x_data = x_data[:20]\n",
    "#y_data = y_data[:20]\n",
    "x_data = np.array(context_window_transform(data=x_data, pad_size=pad_size))\n",
    "\n",
    "print(x_data)"
   ]
  },
  {
   "cell_type": "code",
   "execution_count": null,
   "metadata": {
    "collapsed": true
   },
   "outputs": [],
   "source": []
  }
 ],
 "metadata": {
  "kernelspec": {
   "display_name": "Python 3",
   "language": "python",
   "name": "python3"
  },
  "language_info": {
   "codemirror_mode": {
    "name": "ipython",
    "version": 3
   },
   "file_extension": ".py",
   "mimetype": "text/x-python",
   "name": "python",
   "nbconvert_exporter": "python",
   "pygments_lexer": "ipython3",
   "version": "3.6.2"
  }
 },
 "nbformat": 4,
 "nbformat_minor": 2
}
