{
 "cells": [
  {
   "cell_type": "code",
   "execution_count": 1,
   "metadata": {},
   "outputs": [
    {
     "name": "stderr",
     "output_type": "stream",
     "text": [
      "Using TensorFlow backend.\n"
     ]
    }
   ],
   "source": [
    "from sklearn.model_selection import train_test_split\n",
    "import pandas as pd\n",
    "import numpy as np\n",
    "import gc\n",
    "import re\n",
    "from sklearn.model_selection import train_test_split\n",
    "import keras\n",
    "from keras.models import Sequential\n",
    "from keras.layers import LSTM, Dense, Dropout\n",
    "from keras.optimizers import RMSprop\n",
    "from matplotlib import pyplot as plt"
   ]
  },
  {
   "cell_type": "code",
   "execution_count": 2,
   "metadata": {
    "collapsed": true
   },
   "outputs": [],
   "source": [
    "max_num_features = 10\n",
    "space_letter = 0\n",
    "space_padded_tokens = []"
   ]
  },
  {
   "cell_type": "code",
   "execution_count": 3,
   "metadata": {},
   "outputs": [
    {
     "data": {
      "text/plain": [
       "array(['PLAIN', 'PUNCT', 'DATE', 'LETTERS', 'CARDINAL', 'VERBATIM',\n",
       "       'DECIMAL', 'MEASURE', 'MONEY', 'ORDINAL', 'TIME', 'ELECTRONIC',\n",
       "       'DIGIT', 'FRACTION', 'TELEPHONE', 'ADDRESS'], dtype=object)"
      ]
     },
     "execution_count": 3,
     "metadata": {},
     "output_type": "execute_result"
    }
   ],
   "source": [
    "training_data = pd.read_csv(\"en_train.csv\", nrows=100000)\n",
    "# training_data = pd.read_csv(\"en_train.csv\")\n",
    "max_data_size = len(training_data)\n",
    "training_data['class'].unique()"
   ]
  },
  {
   "cell_type": "code",
   "execution_count": 4,
   "metadata": {
    "collapsed": true
   },
   "outputs": [],
   "source": [
    "encoded_classes = pd.factorize(training_data['class'])\n",
    "# print_data = 100000\n",
    "x_data = []\n",
    "labels = encoded_classes[1]\n",
    "y_data = encoded_classes[0]\n",
    "gc.collect()\n",
    "count = 0"
   ]
  },
  {
   "cell_type": "code",
   "execution_count": 5,
   "metadata": {
    "collapsed": true
   },
   "outputs": [],
   "source": [
    "def make_flat_context_windows(data, pad_size, max_num_features, boundary_letter):\n",
    "    pad = np.zeros(shape=max_num_features)\n",
    "    pads = [pad for _ in  np.arange(pad_size)]\n",
    "    data = pads + data + pads\n",
    "    flattened_context_windows = []\n",
    "    for lower_bound in np.arange(len(data) - pad_size * 2):\n",
    "        flattened_context_window = []\n",
    "        context_window_size = pad_size * 2 + 1\n",
    "        upper_bound = lower_bound + context_window_size\n",
    "        context_window = data[lower_bound:upper_bound]\n",
    "        for word in context_window:\n",
    "            flattened_context_window.append([boundary_letter])\n",
    "            flattened_context_window.append(word)\n",
    "        flattened_context_window.append([boundary_letter])\n",
    "        flattened_context_windows.append([int(word) for row in flattened_context_window for word in row])\n",
    "    return flattened_context_windows"
   ]
  },
  {
   "cell_type": "code",
   "execution_count": 6,
   "metadata": {},
   "outputs": [
    {
     "data": {
      "text/plain": [
       "0"
      ]
     },
     "execution_count": 6,
     "metadata": {},
     "output_type": "execute_result"
    }
   ],
   "source": [
    "x_data = x_data[:max_data_size]\n",
    "y_data = y_data[:max_data_size]\n",
    "x_data = np.array(make_flat_context_windows(x_data, pad_size = 1, max_num_features= max_num_features, boundary_letter=-1))\n",
    "gc.collect()"
   ]
  },
  {
   "cell_type": "code",
   "execution_count": 7,
   "metadata": {},
   "outputs": [
    {
     "data": {
      "text/plain": [
       "0"
      ]
     },
     "execution_count": 7,
     "metadata": {},
     "output_type": "execute_result"
    }
   ],
   "source": [
    "x_train = np.array(x_data)\n",
    "y_train = np.array(y_data)\n",
    "gc.collect()"
   ]
  },
  {
   "cell_type": "code",
   "execution_count": 10,
   "metadata": {},
   "outputs": [
    {
     "ename": "ValueError",
     "evalue": "Found input variables with inconsistent numbers of samples: [0, 100000]",
     "output_type": "error",
     "traceback": [
      "\u001b[0;31m---------------------------------------------------------------------------\u001b[0m",
      "\u001b[0;31mValueError\u001b[0m                                Traceback (most recent call last)",
      "\u001b[0;32m<ipython-input-10-8e852cccd2ff>\u001b[0m in \u001b[0;36m<module>\u001b[0;34m()\u001b[0m\n\u001b[0;32m----> 1\u001b[0;31m \u001b[0mx_train\u001b[0m\u001b[0;34m,\u001b[0m \u001b[0mx_valid\u001b[0m\u001b[0;34m,\u001b[0m \u001b[0my_train\u001b[0m\u001b[0;34m,\u001b[0m \u001b[0my_valid\u001b[0m \u001b[0;34m=\u001b[0m \u001b[0mtrain_test_split\u001b[0m\u001b[0;34m(\u001b[0m\u001b[0mx_train\u001b[0m\u001b[0;34m,\u001b[0m \u001b[0my_train\u001b[0m\u001b[0;34m,\u001b[0m \u001b[0mtest_size\u001b[0m\u001b[0;34m=\u001b[0m\u001b[0;36m0.1\u001b[0m\u001b[0;34m,\u001b[0m \u001b[0mrandom_state\u001b[0m\u001b[0;34m=\u001b[0m\u001b[0;36m2017\u001b[0m\u001b[0;34m)\u001b[0m\u001b[0;34m\u001b[0m\u001b[0m\n\u001b[0m",
      "\u001b[0;32m~/anaconda3/lib/python3.6/site-packages/sklearn/model_selection/_split.py\u001b[0m in \u001b[0;36mtrain_test_split\u001b[0;34m(*arrays, **options)\u001b[0m\n\u001b[1;32m   2029\u001b[0m         \u001b[0mtest_size\u001b[0m \u001b[0;34m=\u001b[0m \u001b[0;36m0.25\u001b[0m\u001b[0;34m\u001b[0m\u001b[0m\n\u001b[1;32m   2030\u001b[0m \u001b[0;34m\u001b[0m\u001b[0m\n\u001b[0;32m-> 2031\u001b[0;31m     \u001b[0marrays\u001b[0m \u001b[0;34m=\u001b[0m \u001b[0mindexable\u001b[0m\u001b[0;34m(\u001b[0m\u001b[0;34m*\u001b[0m\u001b[0marrays\u001b[0m\u001b[0;34m)\u001b[0m\u001b[0;34m\u001b[0m\u001b[0m\n\u001b[0m\u001b[1;32m   2032\u001b[0m \u001b[0;34m\u001b[0m\u001b[0m\n\u001b[1;32m   2033\u001b[0m     \u001b[0;32mif\u001b[0m \u001b[0mshuffle\u001b[0m \u001b[0;32mis\u001b[0m \u001b[0;32mFalse\u001b[0m\u001b[0;34m:\u001b[0m\u001b[0;34m\u001b[0m\u001b[0m\n",
      "\u001b[0;32m~/anaconda3/lib/python3.6/site-packages/sklearn/utils/validation.py\u001b[0m in \u001b[0;36mindexable\u001b[0;34m(*iterables)\u001b[0m\n\u001b[1;32m    227\u001b[0m         \u001b[0;32melse\u001b[0m\u001b[0;34m:\u001b[0m\u001b[0;34m\u001b[0m\u001b[0m\n\u001b[1;32m    228\u001b[0m             \u001b[0mresult\u001b[0m\u001b[0;34m.\u001b[0m\u001b[0mappend\u001b[0m\u001b[0;34m(\u001b[0m\u001b[0mnp\u001b[0m\u001b[0;34m.\u001b[0m\u001b[0marray\u001b[0m\u001b[0;34m(\u001b[0m\u001b[0mX\u001b[0m\u001b[0;34m)\u001b[0m\u001b[0;34m)\u001b[0m\u001b[0;34m\u001b[0m\u001b[0m\n\u001b[0;32m--> 229\u001b[0;31m     \u001b[0mcheck_consistent_length\u001b[0m\u001b[0;34m(\u001b[0m\u001b[0;34m*\u001b[0m\u001b[0mresult\u001b[0m\u001b[0;34m)\u001b[0m\u001b[0;34m\u001b[0m\u001b[0m\n\u001b[0m\u001b[1;32m    230\u001b[0m     \u001b[0;32mreturn\u001b[0m \u001b[0mresult\u001b[0m\u001b[0;34m\u001b[0m\u001b[0m\n\u001b[1;32m    231\u001b[0m \u001b[0;34m\u001b[0m\u001b[0m\n",
      "\u001b[0;32m~/anaconda3/lib/python3.6/site-packages/sklearn/utils/validation.py\u001b[0m in \u001b[0;36mcheck_consistent_length\u001b[0;34m(*arrays)\u001b[0m\n\u001b[1;32m    202\u001b[0m     \u001b[0;32mif\u001b[0m \u001b[0mlen\u001b[0m\u001b[0;34m(\u001b[0m\u001b[0muniques\u001b[0m\u001b[0;34m)\u001b[0m \u001b[0;34m>\u001b[0m \u001b[0;36m1\u001b[0m\u001b[0;34m:\u001b[0m\u001b[0;34m\u001b[0m\u001b[0m\n\u001b[1;32m    203\u001b[0m         raise ValueError(\"Found input variables with inconsistent numbers of\"\n\u001b[0;32m--> 204\u001b[0;31m                          \" samples: %r\" % [int(l) for l in lengths])\n\u001b[0m\u001b[1;32m    205\u001b[0m \u001b[0;34m\u001b[0m\u001b[0m\n\u001b[1;32m    206\u001b[0m \u001b[0;34m\u001b[0m\u001b[0m\n",
      "\u001b[0;31mValueError\u001b[0m: Found input variables with inconsistent numbers of samples: [0, 100000]"
     ]
    }
   ],
   "source": [
    "x_train, x_valid, y_train, y_valid = train_test_split(x_train, y_train, test_size=0.1, random_state=2017)"
   ]
  },
  {
   "cell_type": "code",
   "execution_count": 9,
   "metadata": {
    "collapsed": true
   },
   "outputs": [],
   "source": [
    "num_classes = len(labels)"
   ]
  },
  {
   "cell_type": "code",
   "execution_count": 12,
   "metadata": {
    "collapsed": true
   },
   "outputs": [],
   "source": [
    "y_train = keras.utils.to_categorical(y_train, num_classes)\n",
    "y_valid = keras.utils.to_categorical(y_valid, num_classes)"
   ]
  },
  {
   "cell_type": "code",
   "execution_count": 1,
   "metadata": {},
   "outputs": [
    {
     "ename": "NameError",
     "evalue": "name 'np' is not defined",
     "output_type": "error",
     "traceback": [
      "\u001b[1;31m---------------------------------------------------------------------------\u001b[0m",
      "\u001b[1;31mNameError\u001b[0m                                 Traceback (most recent call last)",
      "\u001b[1;32m<ipython-input-1-695399824f89>\u001b[0m in \u001b[0;36m<module>\u001b[1;34m()\u001b[0m\n\u001b[1;32m----> 1\u001b[1;33m \u001b[0mx_train\u001b[0m \u001b[1;33m=\u001b[0m \u001b[0mnp\u001b[0m\u001b[1;33m.\u001b[0m\u001b[0mreshape\u001b[0m\u001b[1;33m(\u001b[0m\u001b[0mx_train\u001b[0m\u001b[1;33m,\u001b[0m \u001b[1;33m(\u001b[0m\u001b[0mx_train\u001b[0m\u001b[1;33m.\u001b[0m\u001b[0mshape\u001b[0m\u001b[1;33m[\u001b[0m\u001b[1;36m0\u001b[0m\u001b[1;33m]\u001b[0m\u001b[1;33m,\u001b[0m \u001b[0mx_train\u001b[0m\u001b[1;33m.\u001b[0m\u001b[0mshape\u001b[0m\u001b[1;33m[\u001b[0m\u001b[1;36m1\u001b[0m\u001b[1;33m]\u001b[0m\u001b[1;33m,\u001b[0m \u001b[1;36m1\u001b[0m\u001b[1;33m)\u001b[0m\u001b[1;33m)\u001b[0m\u001b[1;33m\u001b[0m\u001b[0m\n\u001b[0m\u001b[0;32m      2\u001b[0m \u001b[0mx_valid\u001b[0m \u001b[1;33m=\u001b[0m \u001b[0mnp\u001b[0m\u001b[1;33m.\u001b[0m\u001b[0mreshape\u001b[0m\u001b[1;33m(\u001b[0m\u001b[0mx_valid\u001b[0m\u001b[1;33m,\u001b[0m \u001b[1;33m(\u001b[0m\u001b[0mx_valid\u001b[0m\u001b[1;33m.\u001b[0m\u001b[0mshape\u001b[0m\u001b[1;33m[\u001b[0m\u001b[1;36m0\u001b[0m\u001b[1;33m]\u001b[0m\u001b[1;33m,\u001b[0m \u001b[0mx_valid\u001b[0m\u001b[1;33m.\u001b[0m\u001b[0mshape\u001b[0m\u001b[1;33m[\u001b[0m\u001b[1;36m1\u001b[0m\u001b[1;33m]\u001b[0m\u001b[1;33m,\u001b[0m \u001b[1;36m1\u001b[0m\u001b[1;33m)\u001b[0m\u001b[1;33m)\u001b[0m\u001b[1;33m\u001b[0m\u001b[0m\n",
      "\u001b[1;31mNameError\u001b[0m: name 'np' is not defined"
     ]
    }
   ],
   "source": [
    "x_train = np.reshape(x_train, (x_train.shape[0], x_train.shape[1], 1))\n",
    "x_valid = np.reshape(x_valid, (x_valid.shape[0], x_valid.shape[1], 1))"
   ]
  },
  {
   "cell_type": "code",
   "execution_count": 14,
   "metadata": {
    "collapsed": true
   },
   "outputs": [],
   "source": [
    "model = Sequential()\n",
    "model.add(LSTM(128, dropout=0.2, recurrent_dropout=0.2, input_shape=((max_num_features * 3) + 4, 1)))\n",
    "model.add(Dense(32, activation='relu'))\n",
    "model.add(Dropout(0.2))\n",
    "model.add(Dense(len(labels), activation='softmax'))"
   ]
  },
  {
   "cell_type": "code",
   "execution_count": 15,
   "metadata": {},
   "outputs": [
    {
     "name": "stdout",
     "output_type": "stream",
     "text": [
      "_________________________________________________________________\n",
      "Layer (type)                 Output Shape              Param #   \n",
      "=================================================================\n",
      "lstm_1 (LSTM)                (None, 128)               66560     \n",
      "_________________________________________________________________\n",
      "dense_1 (Dense)              (None, 32)                4128      \n",
      "_________________________________________________________________\n",
      "dropout_1 (Dropout)          (None, 32)                0         \n",
      "_________________________________________________________________\n",
      "dense_2 (Dense)              (None, 16)                528       \n",
      "=================================================================\n",
      "Total params: 71,216\n",
      "Trainable params: 71,216\n",
      "Non-trainable params: 0\n",
      "_________________________________________________________________\n"
     ]
    }
   ],
   "source": [
    "model.summary()"
   ]
  },
  {
   "cell_type": "code",
   "execution_count": 16,
   "metadata": {
    "collapsed": true
   },
   "outputs": [],
   "source": [
    "model.compile(optimizer='rmsprop', loss='categorical_crossentropy', metrics=['accuracy'])"
   ]
  },
  {
   "cell_type": "code",
   "execution_count": 17,
   "metadata": {
    "collapsed": true
   },
   "outputs": [],
   "source": [
    "# print(x_train.shape, y_train.shape)"
   ]
  },
  {
   "cell_type": "code",
   "execution_count": 18,
   "metadata": {},
   "outputs": [
    {
     "name": "stdout",
     "output_type": "stream",
     "text": [
      "Train on 90000 samples, validate on 10000 samples\n",
      "Epoch 1/50\n",
      "90000/90000 [==============================] - 162s - loss: 0.5114 - acc: 0.8665 - val_loss: 0.3416 - val_acc: 0.8988\n",
      "Epoch 2/50\n",
      "90000/90000 [==============================] - 161s - loss: 0.2671 - acc: 0.9345 - val_loss: 0.6096 - val_acc: 0.8237\n",
      "Epoch 3/50\n",
      "90000/90000 [==============================] - 160s - loss: 0.2153 - acc: 0.9466 - val_loss: 0.1919 - val_acc: 0.9581\n",
      "Epoch 4/50\n",
      "90000/90000 [==============================] - 161s - loss: 0.1894 - acc: 0.9532 - val_loss: 0.1656 - val_acc: 0.9562\n",
      "Epoch 5/50\n",
      "90000/90000 [==============================] - 165s - loss: 0.1739 - acc: 0.9563 - val_loss: 0.5167 - val_acc: 0.7829\n",
      "Epoch 6/50\n",
      "90000/90000 [==============================] - 161s - loss: 0.1634 - acc: 0.9593 - val_loss: 0.3056 - val_acc: 0.8942\n",
      "Epoch 7/50\n",
      "90000/90000 [==============================] - 162s - loss: 0.1541 - acc: 0.9621 - val_loss: 0.1697 - val_acc: 0.9495\n",
      "Epoch 8/50\n",
      "90000/90000 [==============================] - 165s - loss: 0.1487 - acc: 0.9635 - val_loss: 0.2985 - val_acc: 0.8927\n",
      "Epoch 9/50\n",
      "90000/90000 [==============================] - 163s - loss: 0.1426 - acc: 0.9645 - val_loss: 0.4292 - val_acc: 0.8545\n",
      "Epoch 10/50\n",
      "90000/90000 [==============================] - 164s - loss: 0.1366 - acc: 0.9667 - val_loss: 0.1749 - val_acc: 0.9473\n",
      "Epoch 11/50\n",
      "90000/90000 [==============================] - 161s - loss: 0.1336 - acc: 0.9673 - val_loss: 0.3378 - val_acc: 0.8839\n",
      "Epoch 12/50\n",
      "90000/90000 [==============================] - 167s - loss: 0.1304 - acc: 0.9682 - val_loss: 0.5512 - val_acc: 0.7464\n",
      "Epoch 13/50\n",
      "90000/90000 [==============================] - 175s - loss: 0.1272 - acc: 0.9688 - val_loss: 0.1542 - val_acc: 0.9636\n",
      "Epoch 14/50\n",
      "90000/90000 [==============================] - 172s - loss: 0.1254 - acc: 0.9690 - val_loss: 0.2242 - val_acc: 0.9263\n",
      "Epoch 15/50\n",
      "90000/90000 [==============================] - 167s - loss: 0.1238 - acc: 0.9698 - val_loss: 0.2057 - val_acc: 0.9395\n",
      "Epoch 16/50\n",
      "90000/90000 [==============================] - 161s - loss: 0.1209 - acc: 0.9699 - val_loss: 0.2395 - val_acc: 0.9181\n",
      "Epoch 17/50\n",
      "90000/90000 [==============================] - 161s - loss: 0.1189 - acc: 0.9705 - val_loss: 0.4661 - val_acc: 0.7865\n",
      "Epoch 18/50\n",
      "90000/90000 [==============================] - 160s - loss: 0.1176 - acc: 0.9710 - val_loss: 0.2946 - val_acc: 0.8885\n",
      "Epoch 19/50\n",
      "90000/90000 [==============================] - 161s - loss: 0.1160 - acc: 0.9716 - val_loss: 0.2133 - val_acc: 0.9338\n",
      "Epoch 20/50\n",
      "90000/90000 [==============================] - 161s - loss: 0.1146 - acc: 0.9723 - val_loss: 0.2955 - val_acc: 0.8795\n",
      "Epoch 21/50\n",
      "90000/90000 [==============================] - 160s - loss: 0.1152 - acc: 0.9719 - val_loss: 0.1838 - val_acc: 0.9428\n",
      "Epoch 22/50\n",
      "90000/90000 [==============================] - 160s - loss: 0.1125 - acc: 0.9721 - val_loss: 0.3246 - val_acc: 0.8634\n",
      "Epoch 23/50\n",
      "90000/90000 [==============================] - 161s - loss: 0.1123 - acc: 0.9728 - val_loss: 0.5589 - val_acc: 0.7930\n",
      "Epoch 24/50\n",
      "90000/90000 [==============================] - 163s - loss: 0.1098 - acc: 0.9732 - val_loss: 0.2305 - val_acc: 0.9339\n",
      "Epoch 25/50\n",
      "90000/90000 [==============================] - 161s - loss: 0.1081 - acc: 0.9734 - val_loss: 0.4251 - val_acc: 0.8188\n",
      "Epoch 26/50\n",
      "90000/90000 [==============================] - 162s - loss: 0.1085 - acc: 0.9731 - val_loss: 0.3978 - val_acc: 0.8413\n",
      "Epoch 27/50\n",
      "90000/90000 [==============================] - 161s - loss: 0.1066 - acc: 0.9736 - val_loss: 0.5356 - val_acc: 0.7746\n",
      "Epoch 28/50\n",
      "90000/90000 [==============================] - 161s - loss: 0.1074 - acc: 0.9732 - val_loss: 0.3806 - val_acc: 0.8539\n",
      "Epoch 29/50\n",
      "90000/90000 [==============================] - 161s - loss: 0.1062 - acc: 0.9739 - val_loss: 0.2996 - val_acc: 0.9166\n",
      "Epoch 30/50\n",
      "90000/90000 [==============================] - 161s - loss: 0.1060 - acc: 0.9735 - val_loss: 0.5242 - val_acc: 0.7677\n",
      "Epoch 31/50\n",
      "90000/90000 [==============================] - 169s - loss: 0.1044 - acc: 0.9743 - val_loss: 0.2862 - val_acc: 0.9182\n",
      "Epoch 32/50\n",
      "90000/90000 [==============================] - 185s - loss: 0.1040 - acc: 0.9747 - val_loss: 0.5293 - val_acc: 0.7771\n",
      "Epoch 33/50\n",
      "90000/90000 [==============================] - 184s - loss: 0.1044 - acc: 0.9741 - val_loss: 0.2873 - val_acc: 0.8938\n",
      "Epoch 34/50\n",
      "90000/90000 [==============================] - 184s - loss: 0.1032 - acc: 0.9744 - val_loss: 0.4317 - val_acc: 0.8134\n",
      "Epoch 35/50\n",
      "90000/90000 [==============================] - 185s - loss: 0.1008 - acc: 0.9752 - val_loss: 0.2604 - val_acc: 0.9291\n",
      "Epoch 36/50\n",
      "90000/90000 [==============================] - 185s - loss: 0.1029 - acc: 0.9750 - val_loss: 0.2751 - val_acc: 0.9316\n",
      "Epoch 37/50\n",
      "90000/90000 [==============================] - 186s - loss: 0.1020 - acc: 0.9752 - val_loss: 0.3486 - val_acc: 0.8805\n",
      "Epoch 38/50\n",
      "90000/90000 [==============================] - 185s - loss: 0.1019 - acc: 0.9750 - val_loss: 0.3323 - val_acc: 0.8832\n",
      "Epoch 39/50\n",
      "90000/90000 [==============================] - 184s - loss: 0.1032 - acc: 0.9750 - val_loss: 0.3169 - val_acc: 0.8895\n",
      "Epoch 40/50\n",
      "90000/90000 [==============================] - 186s - loss: 0.1011 - acc: 0.9751 - val_loss: 0.4316 - val_acc: 0.8106\n",
      "Epoch 41/50\n",
      "90000/90000 [==============================] - 176s - loss: 0.1008 - acc: 0.9753 - val_loss: 0.4185 - val_acc: 0.8178\n",
      "Epoch 42/50\n",
      "90000/90000 [==============================] - 163s - loss: 0.0987 - acc: 0.9757 - val_loss: 0.3139 - val_acc: 0.9076\n",
      "Epoch 43/50\n",
      "90000/90000 [==============================] - 169s - loss: 0.1000 - acc: 0.9760 - val_loss: 0.4501 - val_acc: 0.8121\n",
      "Epoch 44/50\n",
      "90000/90000 [==============================] - 173s - loss: 0.0980 - acc: 0.9760 - val_loss: 0.2990 - val_acc: 0.9397\n",
      "Epoch 45/50\n",
      "90000/90000 [==============================] - 164s - loss: 0.0994 - acc: 0.9757 - val_loss: 0.2687 - val_acc: 0.9282\n",
      "Epoch 46/50\n",
      "90000/90000 [==============================] - 162s - loss: 0.0997 - acc: 0.9761 - val_loss: 0.4045 - val_acc: 0.8794\n",
      "Epoch 47/50\n",
      "90000/90000 [==============================] - 194s - loss: 0.0984 - acc: 0.9762 - val_loss: 0.2812 - val_acc: 0.8798\n",
      "Epoch 48/50\n",
      "90000/90000 [==============================] - 172s - loss: 0.0972 - acc: 0.9766 - val_loss: 0.2750 - val_acc: 0.9315\n",
      "Epoch 49/50\n",
      "90000/90000 [==============================] - 162s - loss: 0.0978 - acc: 0.9764 - val_loss: 0.2950 - val_acc: 0.8777\n",
      "Epoch 50/50\n",
      "90000/90000 [==============================] - 163s - loss: 0.0973 - acc: 0.9761 - val_loss: 0.4942 - val_acc: 0.8449\n"
     ]
    }
   ],
   "source": [
    "history = model.fit(x_train, y_train, batch_size=256, epochs=50, verbose=1, validation_data=(x_valid, y_valid))"
   ]
  },
  {
   "cell_type": "code",
   "execution_count": 19,
   "metadata": {
    "collapsed": true
   },
   "outputs": [],
   "source": [
    "# history.history"
   ]
  },
  {
   "cell_type": "code",
   "execution_count": 20,
   "metadata": {},
   "outputs": [
    {
     "data": {
      "text/plain": [
       "0"
      ]
     },
     "execution_count": 20,
     "metadata": {},
     "output_type": "execute_result"
    }
   ],
   "source": [
    "gc.collect()"
   ]
  },
  {
   "cell_type": "code",
   "execution_count": 21,
   "metadata": {
    "collapsed": true
   },
   "outputs": [],
   "source": [
    "score = model.evaluate(x_valid, y_valid, verbose=0)"
   ]
  },
  {
   "cell_type": "code",
   "execution_count": 47,
   "metadata": {},
   "outputs": [
    {
     "name": "stdout",
     "output_type": "stream",
     "text": [
      "Accuracy on validaton dataset\n",
      "0.8449\n"
     ]
    }
   ],
   "source": [
    "# print(model.metrics_names)\n",
    "print(\"Accuracy on validaton dataset\")\n",
    "print(score[1])"
   ]
  },
  {
   "cell_type": "code",
   "execution_count": 23,
   "metadata": {},
   "outputs": [
    {
     "data": {
      "image/png": "[encoded data removed]",
      "text/plain": [
       "<matplotlib.figure.Figure at 0x1c26f60ef0>"
      ]
     },
     "metadata": {},
     "output_type": "display_data"
    }
   ],
   "source": [
    "plt.plot(history.history['acc'])\n",
    "plt.title(\"Accuracy\")\n",
    "plt.ylabel(\"Accuracy\")\n",
    "plt.xlabel(\"Epoch\")\n",
    "plt.show()"
   ]
  },
  {
   "cell_type": "code",
   "execution_count": 24,
   "metadata": {},
   "outputs": [
    {
     "data": {
      "image/png": "[encoded data removed]",
      "text/plain": [
       "<matplotlib.figure.Figure at 0x1c190553c8>"
      ]
     },
     "metadata": {},
     "output_type": "display_data"
    }
   ],
   "source": [
    "plt.plot(history.history['loss'])\n",
    "plt.title('Loss')\n",
    "plt.ylabel(\"Loss\")\n",
    "plt.xlabel(\"Epoch\")\n",
    "plt.show()"
   ]
  },
  {
   "cell_type": "code",
   "execution_count": 25,
   "metadata": {
    "collapsed": true
   },
   "outputs": [],
   "source": [
    "predicted_valid = model.predict(x_valid)"
   ]
  },
  {
   "cell_type": "code",
   "execution_count": 26,
   "metadata": {
    "collapsed": true
   },
   "outputs": [],
   "source": [
    "predicted_valid = [labels[np.argmax(x)] for x in predicted_valid]\n",
    "x_valid = [[chr(x) for x in y[2 + max_num_features: 2 + max_num_features * 2]] for y in x_valid]\n",
    "x_valid = [''.join(x) for x in x_valid]\n",
    "x_valid = [re.sub('a+$', '', x) for x in x_valid]"
   ]
  },
  {
   "cell_type": "code",
   "execution_count": 27,
   "metadata": {},
   "outputs": [
    {
     "data": {
      "text/plain": [
       "4662"
      ]
     },
     "execution_count": 27,
     "metadata": {},
     "output_type": "execute_result"
    }
   ],
   "source": [
    "gc.collect()"
   ]
  },
  {
   "cell_type": "code",
   "execution_count": 28,
   "metadata": {
    "collapsed": true
   },
   "outputs": [],
   "source": [
    "df_predicted_valid = pd.DataFrame(columns=['data', 'predict'])\n",
    "df_predicted_valid['data'] = x_valid\n",
    "df_predicted_valid['predict'] = predicted_valid\n",
    "df_pred_valid.to_csv('pred_lstm.csv')"
   ]
  },
  {
   "cell_type": "code",
   "execution_count": 55,
   "metadata": {},
   "outputs": [
    {
     "data": {
      "text/html": [
       "<div>\n",
       "<style>\n",
       "    .dataframe thead tr:only-child th {\n",
       "        text-align: right;\n",
       "    }\n",
       "\n",
       "    .dataframe thead th {\n",
       "        text-align: left;\n",
       "    }\n",
       "\n",
       "    .dataframe tbody tr th {\n",
       "        vertical-align: top;\n",
       "    }\n",
       "</style>\n",
       "<table border=\"1\" class=\"dataframe\">\n",
       "  <thead>\n",
       "    <tr style=\"text-align: right;\">\n",
       "      <th></th>\n",
       "      <th>data</th>\n",
       "      <th>predict</th>\n",
       "    </tr>\n",
       "  </thead>\n",
       "  <tbody>\n",
       "    <tr>\n",
       "      <th>0</th>\n",
       "      <td>Media\u0000\u0000\u0000\u0000\u0000</td>\n",
       "      <td>PLAIN</td>\n",
       "    </tr>\n",
       "    <tr>\n",
       "      <th>1</th>\n",
       "      <td>final\u0000\u0000\u0000\u0000\u0000</td>\n",
       "      <td>PLAIN</td>\n",
       "    </tr>\n",
       "    <tr>\n",
       "      <th>2</th>\n",
       "      <td>it\u0000\u0000\u0000\u0000\u0000\u0000\u0000\u0000</td>\n",
       "      <td>PLAIN</td>\n",
       "    </tr>\n",
       "    <tr>\n",
       "      <th>3</th>\n",
       "      <td>459.0/km²\u0000</td>\n",
       "      <td>MEASURE</td>\n",
       "    </tr>\n",
       "    <tr>\n",
       "      <th>4</th>\n",
       "      <td>Novo\u0000\u0000\u0000\u0000\u0000\u0000</td>\n",
       "      <td>PLAIN</td>\n",
       "    </tr>\n",
       "  </tbody>\n",
       "</table>\n",
       "</div>"
      ],
      "text/plain": [
       "         data  predict\n",
       "0  Media\u0000\u0000\u0000\u0000\u0000    PLAIN\n",
       "1  final\u0000\u0000\u0000\u0000\u0000    PLAIN\n",
       "2  it\u0000\u0000\u0000\u0000\u0000\u0000\u0000\u0000    PLAIN\n",
       "3  459.0/km²\u0000  MEASURE\n",
       "4  Novo\u0000\u0000\u0000\u0000\u0000\u0000    PLAIN"
      ]
     },
     "execution_count": 55,
     "metadata": {},
     "output_type": "execute_result"
    }
   ],
   "source": [
    "df_pred_valid.head()"
   ]
  },
  {
   "cell_type": "code",
   "execution_count": 30,
   "metadata": {
    "collapsed": true
   },
   "outputs": [],
   "source": [
    "test_dataset = pd.read_csv(\"en_test.csv\")"
   ]
  },
  {
   "cell_type": "code",
   "execution_count": 31,
   "metadata": {
    "collapsed": true
   },
   "outputs": [],
   "source": [
    "test_data = test_dataset['before'].values"
   ]
  },
  {
   "cell_type": "code",
   "execution_count": 32,
   "metadata": {
    "collapsed": true
   },
   "outputs": [],
   "source": [
    "def make_encoded_space_padded_tokens(data, max_num_features, space_char):\n",
    "    space_padded_tokens = list()\n",
    "    for before_value in data:\n",
    "        #initialize array of space characters\n",
    "        space_padded_token = np.ones(max_num_features, dtype=int) * space_char\n",
    "        #split the token (word) into a list of characters (much like a string in C)\n",
    "        before_value_c_str = list(str(before_value))\n",
    "        for before_value_char, i in zip(before_value_c_str, range(max_num_features)):\n",
    "            #get the unicode code point of given character\n",
    "            space_padded_token[i] = ord(before_value_char)\n",
    "        space_padded_tokens.append(space_padded_token)\n",
    "    return space_padded_tokens"
   ]
  },
  {
   "cell_type": "code",
   "execution_count": 33,
   "metadata": {
    "collapsed": true
   },
   "outputs": [],
   "source": [
    "test_data = make_encoded_space_padded_tokens(data=test_data, max_num_features=max_num_features, space_char=0)"
   ]
  },
  {
   "cell_type": "code",
   "execution_count": 34,
   "metadata": {
    "collapsed": true
   },
   "outputs": [],
   "source": [
    "test_data = np.array(make_flat_context_windows(data=test_data, pad_size=1, max_num_features=max_num_features, boundary_letter=-1))"
   ]
  },
  {
   "cell_type": "code",
   "execution_count": 35,
   "metadata": {
    "collapsed": true
   },
   "outputs": [],
   "source": [
    "test_data = np.reshape(test_data, (test_data.shape[0], test_data.shape[1], 1))"
   ]
  },
  {
   "cell_type": "code",
   "execution_count": 36,
   "metadata": {
    "collapsed": true
   },
   "outputs": [],
   "source": [
    "predicted_data = model.predict(test_data)"
   ]
  },
  {
   "cell_type": "code",
   "execution_count": 38,
   "metadata": {
    "collapsed": true
   },
   "outputs": [],
   "source": [
    "predicted_data = [labels[np.argmax(x)] for x in predicted_data]\n",
    "test_data = [[chr(x) for x in y[2 + max_num_features: 2 + max_num_features * 2]] for y in test_data]\n",
    "test_data = [''.join(x) for x in test_data]\n",
    "test_data = [re.sub('a+$', '', x) for x in test_data]"
   ]
  },
  {
   "cell_type": "code",
   "execution_count": 39,
   "metadata": {},
   "outputs": [
    {
     "data": {
      "text/plain": [
       "0"
      ]
     },
     "execution_count": 39,
     "metadata": {},
     "output_type": "execute_result"
    }
   ],
   "source": [
    "gc.collect()"
   ]
  },
  {
   "cell_type": "code",
   "execution_count": 40,
   "metadata": {
    "collapsed": true
   },
   "outputs": [],
   "source": [
    "df_predicted = pd.DataFrame(columns=['data', 'predict'])\n",
    "df_predicted['data'] = test_data\n",
    "df_predicted['predict'] = predicted_data\n",
    "df_predicted.to_csv('pred_lstm.csv')"
   ]
  },
  {
   "cell_type": "code",
   "execution_count": 41,
   "metadata": {},
   "outputs": [
    {
     "data": {
      "text/plain": [
       "array(['PLAIN', 'LETTERS', 'ORDINAL', 'PUNCT', 'CARDINAL', 'DATE',\n",
       "       'MEASURE', 'VERBATIM'], dtype=object)"
      ]
     },
     "execution_count": 41,
     "metadata": {},
     "output_type": "execute_result"
    }
   ],
   "source": [
    "# df_predicted['predict'].unique()"
   ]
  },
  {
   "cell_type": "code",
   "execution_count": 53,
   "metadata": {
    "collapsed": true
   },
   "outputs": [],
   "source": [
    "all_classes = set(training_data['class'].unique())\n",
    "predicted_classes = set(df_predicted['predict'].unique())\n",
    "missing_classes = all_classes - predicted_classes"
   ]
  },
  {
   "cell_type": "code",
   "execution_count": 61,
   "metadata": {},
   "outputs": [
    {
     "name": "stdout",
     "output_type": "stream",
     "text": [
      "Missing Classes:\n",
      "ELECTRONIC\n",
      "ADDRESS\n",
      "MONEY\n",
      "DECIMAL\n",
      "TIME\n",
      "DIGIT\n",
      "FRACTION\n",
      "TELEPHONE\n"
     ]
    }
   ],
   "source": [
    "print(\"Missing Classes:\")\n",
    "for cls in missing_classes: print(cls)"
   ]
  },
  {
   "cell_type": "code",
   "execution_count": null,
   "metadata": {
    "collapsed": true
   },
   "outputs": [],
   "source": []
  }
 ],
 "metadata": {
  "kernelspec": {
   "display_name": "Python 3",
   "language": "python",
   "name": "python3"
  },
  "language_info": {
   "codemirror_mode": {
    "name": "ipython",
    "version": 3
   },
   "file_extension": ".py",
   "mimetype": "text/x-python",
   "name": "python",
   "nbconvert_exporter": "python",
   "pygments_lexer": "ipython3",
   "version": "3.6.3"
  }
 },
 "nbformat": 4,
 "nbformat_minor": 2
}
