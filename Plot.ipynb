{
 "cells": [
  {
   "cell_type": "code",
   "execution_count": null,
   "metadata": {
    "collapsed": true
   },
   "outputs": [],
   "source": [
    "import pandas as pd\n",
    "import numpy\n",
    "import matplotlib\n",
    "import matplotlib.pyplot as plt"
   ]
  },
  {
   "cell_type": "code",
   "execution_count": 2,
   "metadata": {},
   "outputs": [],
   "source": [
    "# df = pd.read_csv(\"en_train.csv\", nrows = 10000)\n",
    "df = pd.read_csv(\"en_train.csv\")"
   ]
  },
  {
   "cell_type": "code",
   "execution_count": 3,
   "metadata": {},
   "outputs": [
    {
     "name": "stdout",
     "output_type": "stream",
     "text": [
      "['ELECTRONIC', 'FRACTION', 'TIME', 'VERBATIM', 'ORDINAL', 'TELEPHONE', 'PUNCT', 'DATE', 'PLAIN', 'LETTERS', 'MONEY', 'DIGIT', 'CARDINAL', 'MEASURE', 'DECIMAL', 'ADDRESS']\n",
      "[522, 133744, 258348, 9821, 5442, 5162, 1196, 152790, 14783, 6128, 12703, 7353647, 1880507, 4024, 1465, 78108]\n"
     ]
    }
   ],
   "source": [
    "#print(df)\n",
    "df_classes = df.groupby('class').count()\n",
    "df_class_list = list(set(c for c in df['class']))\n",
    "print(df_class_list)\n",
    "x =[val for val in  df_classes['before']]\n",
    "print (x)"
   ]
  },
  {
   "cell_type": "code",
   "execution_count": null,
   "metadata": {},
   "outputs": [],
   "source": [
    "x = numpy.arange(16)\n",
    "plt.bar(x, height= [522, 133744, 258348, 9821, 5442, 5162, 1196, 152790, 14783, 6128, 12703, 7353647, 1880507, 4024, 1465, 78108])"
   ]
  },
  {
   "cell_type": "code",
   "execution_count": null,
   "metadata": {},
   "outputs": [],
   "source": []
  },
  {
   "cell_type": "code",
   "execution_count": null,
   "metadata": {
    "collapsed": true
   },
   "outputs": [],
   "source": []
  }
 ],
 "metadata": {
  "kernelspec": {
   "display_name": "Python 3",
   "language": "python",
   "name": "python3"
  },
  "language_info": {
   "codemirror_mode": {
    "name": "ipython",
    "version": 3
   },
   "file_extension": ".py",
   "mimetype": "text/x-python",
   "name": "python",
   "nbconvert_exporter": "python",
   "pygments_lexer": "ipython3",
   "version": "3.6.3"
  }
 },
 "nbformat": 4,
 "nbformat_minor": 2
}
